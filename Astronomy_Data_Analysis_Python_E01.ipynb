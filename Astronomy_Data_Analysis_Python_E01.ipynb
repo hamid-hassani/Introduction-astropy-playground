{
  "nbformat": 4,
  "nbformat_minor": 0,
  "metadata": {
    "colab": {
      "name": "Astronomy-Data-Analysis-Python-E01.ipynb",
      "provenance": [],
      "collapsed_sections": [],
      "machine_shape": "hm",
      "include_colab_link": true
    },
    "kernelspec": {
      "name": "python3",
      "display_name": "Python 3"
    }
  },
  "cells": [
    {
      "cell_type": "markdown",
      "metadata": {
        "id": "view-in-github",
        "colab_type": "text"
      },
      "source": [
        "<a href=\"https://colab.research.google.com/github/hamid-hassani/Introduction-astropy-playground/blob/master/Astronomy_Data_Analysis_Python_E01.ipynb\" target=\"_parent\"><img src=\"https://colab.research.google.com/assets/colab-badge.svg\" alt=\"Open In Colab\"/></a>"
      ]
    },
    {
      "cell_type": "markdown",
      "metadata": {
        "id": "eWoxpvzcnVny",
        "colab_type": "text"
      },
      "source": [
        "Hello there!\n",
        "\n",
        "Login with your Google account and make copy of this file to start!\n"
      ]
    },
    {
      "cell_type": "code",
      "metadata": {
        "id": "wLMjRjqDvcbf",
        "colab_type": "code",
        "outputId": "bc707208-0a0f-4b11-81ee-9d5014f4baa3",
        "colab": {
          "base_uri": "https://localhost:8080/",
          "height": 564
        }
      },
      "source": [
        "#Install dependencies\n",
        "#Pip is some kind of pacakge manager.\n",
        "\n",
        "!pip install astropy==3.2.3\n",
        "\n",
        "\n",
        "#Wget, Download data from http protocol directly into your host (Google Colab for here).\n",
        "\n",
        "##Some useful tips:\n",
        "#-c (flag or option) in order to resume download leter, if you want.\n",
        "#-O (flag or option) to change name of downloaded file.\n",
        "!wget -c -O smc_170_231.fits 'http://gleam-vo.icrar.org/GLEAMCUTOUT?radec=13.15833,-72.80028&radius=2.5&file_id=mosaic_Week2_170-231MHz.fits&regrid=0&projection=ZEA&fits_format=1'\n",
        "!wget -c -O smc_mips_24.fits 'https://irsa.ipac.caltech.edu//data/SPITZER/SAGE-SMC/images/MIPS/SAGE_SMC_MIPS24_E012.fits'\n",
        "\n",
        "\n",
        "#Some of data archive let you download by bash files, like ALMA and ESO (MUSE for instance).\n"
      ],
      "execution_count": 0,
      "outputs": [
        {
          "output_type": "stream",
          "text": [
            "Collecting astropy==3.2.3\n",
            "\u001b[?25l  Downloading https://files.pythonhosted.org/packages/66/07/1e2a4c529d4216972eb05e887238d597ff69c34b1e87108c888972cd60b8/astropy-3.2.3-cp36-cp36m-manylinux1_x86_64.whl (6.3MB)\n",
            "\u001b[K     |████████████████████████████████| 6.3MB 3.4MB/s \n",
            "\u001b[?25hRequirement already satisfied: numpy>=1.13 in /usr/local/lib/python3.6/dist-packages (from astropy==3.2.3) (1.18.2)\n",
            "Installing collected packages: astropy\n",
            "  Found existing installation: astropy 4.0.1\n",
            "    Uninstalling astropy-4.0.1:\n",
            "      Successfully uninstalled astropy-4.0.1\n",
            "Successfully installed astropy-3.2.3\n",
            "--2020-04-01 21:30:39--  http://gleam-vo.icrar.org/GLEAMCUTOUT?radec=13.15833,-72.80028&radius=2.5&file_id=mosaic_Week2_170-231MHz.fits&regrid=0&projection=ZEA&fits_format=1\n",
            "Resolving gleam-vo.icrar.org (gleam-vo.icrar.org)... 13.54.25.105\n",
            "Connecting to gleam-vo.icrar.org (gleam-vo.icrar.org)|13.54.25.105|:80... connected.\n",
            "HTTP request sent, awaiting response... 200 OK\n",
            "Length: 1693440 (1.6M) [image/fits]\n",
            "Saving to: ‘smc_170_231.fits’\n",
            "\n",
            "smc_170_231.fits    100%[===================>]   1.61M  1.36MB/s    in 1.2s    \n",
            "\n",
            "2020-04-01 21:30:41 (1.36 MB/s) - ‘smc_170_231.fits’ saved [1693440/1693440]\n",
            "\n",
            "--2020-04-01 21:30:42--  https://irsa.ipac.caltech.edu//data/SPITZER/SAGE-SMC/images/MIPS/SAGE_SMC_MIPS24_E012.fits\n",
            "Resolving irsa.ipac.caltech.edu (irsa.ipac.caltech.edu)... 134.4.54.110\n",
            "Connecting to irsa.ipac.caltech.edu (irsa.ipac.caltech.edu)|134.4.54.110|:443... connected.\n",
            "HTTP request sent, awaiting response... 200 OK\n",
            "Length: 535973760 (511M) [image/x-fits]\n",
            "Saving to: ‘smc_mips_24.fits’\n",
            "\n",
            "smc_mips_24.fits    100%[===================>] 511.14M  33.5MB/s    in 9.4s    \n",
            "\n",
            "2020-04-01 21:30:52 (54.5 MB/s) - ‘smc_mips_24.fits’ saved [535973760/535973760]\n",
            "\n"
          ],
          "name": "stdout"
        }
      ]
    },
    {
      "cell_type": "markdown",
      "metadata": {
        "id": "zsvmlkc2Lp2x",
        "colab_type": "text"
      },
      "source": [
        "More information about GLEAM project (Low-frequncy inteformetery radio data from ~ 70MHz to 230MHz)\n",
        "\n",
        "http://www.mwatelescope.org/gleam\n",
        "\n",
        "\n",
        "---\n",
        "\n",
        "Spitzer data:\n",
        "https://irsa.ipac.caltech.edu/cgi-bin/Radar/nph-discovery\n",
        "\n",
        "MIPS:\n",
        "24um,70um,160um\n",
        "\n",
        "\n",
        "\n",
        "---\n",
        "\n",
        "[DS9 Image viewer\n",
        "](http://ds9.si.edu/site/Download.html)"
      ]
    },
    {
      "cell_type": "code",
      "metadata": {
        "id": "kM_9pyJG0BAp",
        "colab_type": "code",
        "outputId": "1be45210-91eb-42ed-9a3b-29c7f4741d5c",
        "colab": {
          "base_uri": "https://localhost:8080/",
          "height": 153
        }
      },
      "source": [
        "#DOC: https://docs.astropy.org/en/stable/io/fits/\n",
        "#Import astropy\n",
        "from astropy.io import fits\n",
        "import numpy as np\n",
        "import matplotlib.pyplot as plt\n",
        "\n",
        "\n",
        "#Open FITS file:\n",
        "hdu = fits.open('smc_170_231.fits')\n",
        "mips_24 = fits.open('smc_mips_24.fits')\n",
        "\n",
        "#An HDU (Header Data Unit) consist of a header and (typically) a data array or table.\n",
        "\n",
        "#Check our HDU information, slices and cube:\n",
        "print(hdu.info())\n",
        "print(mips_24.info())"
      ],
      "execution_count": 0,
      "outputs": [
        {
          "output_type": "stream",
          "text": [
            "Filename: smc_170_231.fits\n",
            "No.    Name      Ver    Type      Cards   Dimensions   Format\n",
            "  0  PRIMARY       1 PrimaryHDU      67   (649, 649)   float32   \n",
            "None\n",
            "Filename: smc_mips_24.fits\n",
            "No.    Name      Ver    Type      Cards   Dimensions   Format\n",
            "  0  PRIMARY       1 PrimaryHDU      58   (14676, 9130)   float32   \n",
            "None\n"
          ],
          "name": "stdout"
        }
      ]
    },
    {
      "cell_type": "markdown",
      "metadata": {
        "id": "P7PncERO6kfV",
        "colab_type": "text"
      },
      "source": [
        "\n",
        "![alt text](http://astronomy.swin.edu.au/cms/cpg15x/albums/userpics/rightascension2.gif)\n",
        "\n",
        "Read here more:\n",
        "*  http://astronomy.swin.edu.au/cosmos/R/Right+Ascension\n",
        "*  http://astronomy.swin.edu.au/cosmos/D/Declination\n",
        "\n"
      ]
    },
    {
      "cell_type": "code",
      "metadata": {
        "id": "jz5LqBjE5cAX",
        "colab_type": "code",
        "outputId": "aa47a42f-9e02-4a4e-fb41-fe2acf144314",
        "colab": {
          "base_uri": "https://localhost:8080/",
          "height": 221
        }
      },
      "source": [
        "#get header of our hdu\n",
        "header = hdu[0].header\n",
        "\n",
        "#Print unformatted header\n",
        "#print(header))\n",
        "\n",
        "#print formatted header\n",
        "#print(repr(header))\n",
        "\n",
        "#Get specfiec header 'keyword' using:\n",
        "#print(header['NAXIS1'])\n",
        "\n",
        "#General information:\n",
        "print('Image X length: ',header['NAXIS1'])  \n",
        "print('Image Y length: ',header['NAXIS1'])\n",
        "print('Cordinate: ',header['EQUINOX']) # EQUINOX, Can be J2000.0 or B1950 (modern data are J2000) or etc. J2000 refred as fk5 in astropy.\n",
        "print('Astrometric system: ', header['RADESYS'])\n",
        "print('X: ',header['CTYPE1']) # X axes in Astronomy expressed as WCS projection, right ascension\n",
        "print('Y: ',header['CTYPE2']) # Y axes in Astronomy expressed as WCS projection, declination\n",
        "print('Physical Unit: ', header['BUNIT']) # Physical Unit (Maybe Jy, Jy/Beam, erg/s*cm^2, Jy/str or etc.)\n",
        "\n",
        "\n",
        "print('Pixel Size: ',header['CD1_1']) #Pixel size in deg, *3600=arcsec\n",
        "print('Pixel Size: ',header['CD2_2']) #Pixel size in deg, *3600=arcsec\n",
        "#if CD1_1=CD2_2, you have squre pixesl.\n",
        "\n",
        "#Radio maps necessary information (May specific for other maps even):\n",
        "print('Beam Major: ',header['BMAJ']) #Beam major axes (FWHM) in deg\n",
        "print('Beam Minor: ',header['BMIN']) #Beam major axes (FWHM) in deg\n",
        "print('BPA: ',header['BPA']) #Position angle in deg\n",
        "\n",
        "\n",
        "\n"
      ],
      "execution_count": 0,
      "outputs": [
        {
          "output_type": "stream",
          "text": [
            "Image X length:  649\n",
            "Image Y length:  649\n",
            "Cordinate:  2000.0\n",
            "Astrometric system:  ICRS\n",
            "X:  RA---ZEA\n",
            "Y:  DEC--ZEA\n",
            "Physical Unit:  JY/BEAM\n",
            "Pixel Size:  -0.007696780841798\n",
            "Pixel Size:  0.007696780841798\n",
            "Beam Major:  0.04909602925181389\n",
            "Beam Minor:  0.04571897909045219\n",
            "BPA:  31.97131729125977\n"
          ],
          "name": "stdout"
        }
      ]
    },
    {
      "cell_type": "markdown",
      "metadata": {
        "id": "0AJeXaXjh0mp",
        "colab_type": "text"
      },
      "source": [
        "Read more about beam size:\n",
        "\n",
        "[Check here](https://science.nrao.edu/BasicsofRASocorroSynthesisWorkshoptalkfinmod5.pdf)\n"
      ]
    },
    {
      "cell_type": "code",
      "metadata": {
        "id": "qNSW1MDn-Luv",
        "colab_type": "code",
        "colab": {}
      },
      "source": [
        "#Update header (You may need to enter specific key)\n",
        "#You must explain any action as comment for your further studies.\n",
        "\n",
        "# Set new values:\n",
        "header['history'] = 'I am working on this GLEAM data today!'\n",
        "header['history'][1] = 'I am working on this GLEAM data today!'\n",
        "\n",
        "\n",
        "#Another way of updating old values:\n",
        "header.set('BMAJ', 0.09097557515)\n",
        "\n",
        "#Always works with 'key' rather than position index, becuase all FITS file do not follow same index order.\n",
        "\n",
        "#get all keys:\n",
        "#print(list(header.keys()))"
      ],
      "execution_count": 0,
      "outputs": []
    },
    {
      "cell_type": "code",
      "metadata": {
        "id": "7K_bTKEnAUcx",
        "colab_type": "code",
        "outputId": "28103887-b41a-43e8-c005-4f9615a839d3",
        "colab": {
          "base_uri": "https://localhost:8080/",
          "height": 153
        }
      },
      "source": [
        "#Working with image data, Get data as 2x2 array\n",
        "data = hdu[0].data\n",
        "\n",
        "#Get indvisual px value:\n",
        "#data[y,x], astropy load data such as [y,x] and like C (and unlike Fortran), Python is 0-indexed.\n",
        "print(data[100, 100])\n",
        "\n",
        "#Get array of px:\n",
        "print(data[100:102, 100:102])\n",
        "\n",
        "#Get mean of this 4 pixels:\n",
        "print('4 Pixel sum: ',np.sum(data[100:102, 100:102]))\n",
        "print('4 Pixel mean: ',np.mean(data[100:102, 100:102]))\n",
        "\n",
        "\n",
        "#Update px values:\n",
        "\n",
        "#First way:\n",
        "#data[30:40, 10:20] = 100\n",
        "#data[1, 4]=0\n",
        "\n",
        "#Condition in data:\n",
        "#data[data<0.1]=0\n",
        "\n",
        "#Rmove NaN in data, NaN represnt lack of data, not zero.\n",
        "#data[np.isnan(data)] = 0\n",
        "\n",
        "\n",
        "#Second way (slower), Loop:\n",
        "total_x = int(header['NAXIS1']) #X-AXES\n",
        "total_y = int(header['NAXIS2']) #Y-AXES\n",
        "\n",
        "for x in range(0,total_x):\n",
        "  for y in range(0,total_y):\n",
        "      if(data[y,x]<0.01):\n",
        "        data[y,x]=0\n",
        "        #data[y,x]=np.nan\n",
        "\n",
        "\n",
        "print('Sum of data:',np.sum(data))\n",
        "print('Mean of data:',np.mean(data))\n",
        "print('STD of data:',np.std(data))"
      ],
      "execution_count": 0,
      "outputs": [
        {
          "output_type": "stream",
          "text": [
            "0.021854168\n",
            "[[0.02185417 0.02278217]\n",
            " [0.01820427 0.02301056]]\n",
            "4 Pixel sum:  0.08585118\n",
            "4 Pixel mean:  0.021462794\n",
            "Sum of data: 10200.767\n",
            "Mean of data: 0.024218287\n",
            "STD of data: 0.06882086\n"
          ],
          "name": "stdout"
        }
      ]
    },
    {
      "cell_type": "code",
      "metadata": {
        "id": "4OcxMJ4boAnK",
        "colab_type": "code",
        "outputId": "527b914f-c624-4a41-c404-d2b8114a431c",
        "colab": {
          "base_uri": "https://localhost:8080/",
          "height": 54
        }
      },
      "source": [
        "#Save fits:\n",
        "#do what ever change you want and save FITS as:\n",
        "\n",
        "#for example:\n",
        "#data[data<10]=0\n",
        "\n",
        "hdu.close() #hdu is your file HDU name\n",
        "fits.writeto('new_map.fits',data,header,clobber=True)\n",
        "\n"
      ],
      "execution_count": 0,
      "outputs": [
        {
          "output_type": "stream",
          "text": [
            "WARNING: AstropyDeprecationWarning: \"clobber\" was deprecated in version 2.0 and will be removed in a future version. Use argument \"overwrite\" instead. [__main__]\n"
          ],
          "name": "stderr"
        }
      ]
    },
    {
      "cell_type": "code",
      "metadata": {
        "id": "OdF7a-t8Cghh",
        "colab_type": "code",
        "outputId": "e37e4576-e8f8-403e-e51f-fbc708106611",
        "colab": {
          "base_uri": "https://localhost:8080/",
          "height": 628
        }
      },
      "source": [
        "#DOC: https://docs.astropy.org/en/stable/visualization/\n",
        "#Data visualization:\n",
        "\n",
        "import matplotlib.pyplot as plt\n",
        "from astropy.wcs import WCS\n",
        "\n",
        "#recall MIPS 24um header and data again:\n",
        "mips_24_header=mips_24[0].header\n",
        "data_24 = mips_24[0].data\n",
        "\n",
        "#Perform coordinate transforamtion:\n",
        "wcs = WCS(header)\n",
        "\n",
        "#Check WCS:\n",
        "print(repr(wcs))\n",
        "\n",
        "#CTYPE: Projection system\n",
        "#CRVAL: Refrence point (RA,DEC)\n",
        "#CRPIX: Refrence point(X,Y)\n",
        "#CD1_1,CD1_2,CD2_1,CD2_2: Pixel Size in deg\n",
        "#NAXIS: Length of image in PX.\n",
        "\n",
        "fig, ax = plt.subplots(figsize=(7,7))\n",
        "#Show map in World Coordinate System transform from axes\n",
        "#plt.subplot(projection=wcs)\n",
        "\n",
        "plt.subplot()\n",
        "\n",
        "plt.imshow(data_24, vmin=0, vmax=2)\n",
        "#plt.imshow(data_24[3000:7000,7000:13000], vmin=0, vmax=2)\n",
        "#plt.imshow(data, vmin=0, vmax=0.3) \n",
        "\n",
        "plt.grid(color='white', ls='dashed')\n",
        "plt.xlabel('R.A (J2000)')\n",
        "plt.ylabel('DEC (J2000)')\n",
        "plt.colorbar()\n",
        "\n",
        "#You may write in your python codes when you do not use Jupyter Notebook:\n",
        "#plt.show() "
      ],
      "execution_count": 0,
      "outputs": [
        {
          "output_type": "stream",
          "text": [
            "WARNING: FITSFixedWarning: 'datfix' made the change 'Invalid parameter values: MJD-OBS and DATE-OBS are inconsistent'. [astropy.wcs.wcs]\n"
          ],
          "name": "stderr"
        },
        {
          "output_type": "stream",
          "text": [
            "WCS Keywords\n",
            "\n",
            "Number of WCS axes: 2\n",
            "CTYPE : 'RA---ZEA'  'DEC--ZEA'  \n",
            "CRVAL : 60.0  -27.0  \n",
            "CRPIX : -1463.5  6616.5  \n",
            "CD1_1 CD1_2  : -0.007696780841798  0.0  \n",
            "CD2_1 CD2_2  : 0.0  0.007696780841798  \n",
            "NAXIS : 649  649\n"
          ],
          "name": "stdout"
        },
        {
          "output_type": "execute_result",
          "data": {
            "text/plain": [
              "<matplotlib.colorbar.Colorbar at 0x7f8b3d27a978>"
            ]
          },
          "metadata": {
            "tags": []
          },
          "execution_count": 7
        },
        {
          "output_type": "display_data",
          "data": {
            "image/png": "[encoded data removed]",
            "text/plain": [
              "<Figure size 504x504 with 2 Axes>"
            ]
          },
          "metadata": {
            "tags": []
          }
        }
      ]
    },
    {
      "cell_type": "code",
      "metadata": {
        "id": "42UwVk8WU_rS",
        "colab_type": "code",
        "outputId": "52efde7d-c16a-48bd-ee42-7a331b8e735c",
        "colab": {
          "base_uri": "https://localhost:8080/",
          "height": 68
        }
      },
      "source": [
        "#Doc: https://docs.astropy.org/en/stable/api/astropy.coordinates.SkyCoord.html\n",
        "#Sky transformation, Skycoord\n",
        "#How to get RA and DEC from x and y and inverse.\n",
        "\n",
        "from astropy.coordinates import SkyCoord  # High-level coordinates\n",
        "from astropy.coordinates import ICRS, Galactic, FK4, FK5  # coordinates systems\n",
        "from astropy.coordinates import Angle\n",
        "import astropy.units as u #physical unit\n",
        "\n",
        "# We had a R.A and DEC from j1950 (fk4) before:\n",
        "ra= '00:43:33'\n",
        "dec= '-73:39:11'\n",
        "\n",
        "# Convert above cordinate to j2000(fk5) using SkyCoord\n",
        "# You need to define your input unit also:\n",
        "c = SkyCoord( ra, dec, unit=(u.hourangle, u.deg),frame='fk4')\n",
        "fk5 = c.transform_to('fk5')\n",
        "\n",
        "new_ra = fk5.ra.deg  #you can get with differnt unit as well, change it to .hourangle\n",
        "new_dec = fk5.dec.deg\n",
        "\n",
        "print('Transformed cordinate to J2000: ',new_ra,new_dec)\n",
        "\n",
        "#Get x and y of this new RA and DEC:\n",
        "#World 2 pix mean transform from astronomical cordinate to x and y\n",
        "x, y = wcs.all_world2pix(new_ra, new_dec, 1)\n",
        "\n",
        "print('X and Y from above RA and DEC: ',x,y)\n",
        "\n",
        "#Now reverse, Convert from x and y into ra and dec:\n",
        "my_x = 100\n",
        "my_y = 100\n",
        "\n",
        "my_ra,my_dec = wcs.all_pix2world(my_x, my_y, 1)\n",
        "print('Convert from arbitrary X and Y to Ra and DEC: ',my_ra,my_dec)\n",
        "\n",
        "\n"
      ],
      "execution_count": 0,
      "outputs": [
        {
          "output_type": "stream",
          "text": [
            "Transformed cordinate to J2000:  11.346755021362636 -73.37978034109875\n",
            "X and Y from above RA and DEC:  321.7431502252782 231.3585647601567\n",
            "Convert from arbitrary X and Y to Ra and DEC:  13.03023848122826 -75.13330388711006\n"
          ],
          "name": "stdout"
        }
      ]
    },
    {
      "cell_type": "code",
      "metadata": {
        "id": "aXdKMCA1dz7m",
        "colab_type": "code",
        "outputId": "f204ae42-aca0-404b-b422-7daabc6ee7b5",
        "colab": {
          "base_uri": "https://localhost:8080/",
          "height": 51
        }
      },
      "source": [
        "#Angular sepration from 2 sources:\n",
        "\n",
        "#Need to enter 2 different source/point even with different coordinate system:\n",
        "c1 = SkyCoord('5h23m34.5s', '-69d45m22s', frame='icrs')\n",
        "c2 = SkyCoord('0h52m44.8s', '-72d49m43s', frame='fk5')\n",
        "sep = c1.separation(c2)\n",
        "\n",
        "#only can expressed as angular speration(deg,radian)\n",
        "print('Angular Speration:', sep.deg)\n",
        "\n",
        "#Compute physical distance of 2 sources:\n",
        "cc1 = SkyCoord('5h23m34.5s', '-69d45m22s', distance=70*u.kpc, frame='icrs')\n",
        "cc2 = SkyCoord('0h52m44.8s', '-72d49m43s', distance=80*u.kpc, frame='icrs')\n",
        "sep_3d = cc1.separation_3d(cc2)\n",
        "\n",
        "# Get distance of this source to each other respect to earth:  \n",
        "print('Phyical distance:',sep_3d.pc)"
      ],
      "execution_count": 0,
      "outputs": [
        {
          "output_type": "stream",
          "text": [
            "Angular Speration: 20.746114476043978\n",
            "Phyical distance: 28743.9881578141\n"
          ],
          "name": "stdout"
        }
      ]
    },
    {
      "cell_type": "markdown",
      "metadata": {
        "id": "vMd5ZVU5XNLl",
        "colab_type": "text"
      },
      "source": [
        "How to find information about our celestial source?\n",
        "\n",
        "[Check here](http://simbad.u-strasbg.fr/simbad/sim-fbasic)"
      ]
    },
    {
      "cell_type": "code",
      "metadata": {
        "id": "dIX3YxieIzvC",
        "colab_type": "code",
        "outputId": "89e20d13-8ad4-445a-f964-efc3c81c3f31",
        "colab": {
          "base_uri": "https://localhost:8080/",
          "height": 224
        }
      },
      "source": [
        "#DOC: https://reproject.readthedocs.io/\n",
        "#Change image shape (Remove extra space, crop)\n",
        "\n",
        "#As you can see in MIPS 24um image, there are a lot's of extra space.\n",
        "#How we can remove extra regions which is not from our source?\n",
        "\n",
        "\n",
        "#we need to use reproject package:\n",
        "!pip install reproject\n",
        "\n",
        "from reproject import reproject_interp\n",
        "\n",
        "\n",
        "new_header = mips_24_header.copy()   \n",
        "\n",
        "new_header['NAXIS1'] = 6000 # total lenght of new map(x)\n",
        "new_header['NAXIS2'] = 6000 # total lenght of new map(y)\n",
        "\n",
        "new_header['CRPIX1'] = 3000 # refrence px of x\n",
        "new_header['CRPIX2'] = 3000 # refrence px of y\n",
        "\n",
        "new_header['CRVAL1'] = 15.440541 # refrence R.A (J2000) in deg\n",
        "new_header['CRVAL2'] = -72.918473 # refrence DEC (J2000) in deg\n",
        "\n",
        "#sometimes it is enough to change NAXIS and CRVAL, But for this case we changed all things.\n",
        "\n",
        "#input data (mips_24) must be HDU (top-level), not data array\n",
        "\n",
        "new_image, footprint = reproject_interp(mips_24, new_header)   \n",
        "\n",
        "fits.writeto('mips_24_projected.fits', new_image, new_header, clobber=True) \n",
        "\n",
        "\n",
        "#Visualization \n",
        "\n",
        "f = plt.figure(figsize=(10,8))\n",
        "\n",
        "ax = f.add_subplot(121, projection=WCS(header))\n",
        "ax.imshow(new_image, origin='lower', vmin=0, vmax=1)\n",
        "ax.coords['ra'].set_axislabel('Right Ascension (J2000)')\n",
        "ax.coords['dec'].set_axislabel('Declination (J2000)')\n",
        "ax.set_title('Projected')\n",
        "\n",
        "ax2 = f.add_subplot(122, projection=WCS(new_header))\n",
        "ax2.imshow(data_24, origin='lower', vmin=0, vmax=1)\n",
        "ax2.coords['ra'].set_axislabel('Right Ascension (J2000)')\n",
        "ax2.coords['dec'].set_axislabel('Declination (J2000)')\n",
        "ax2.set_title('Orginal')\n",
        "\n",
        "\n",
        "\n",
        "\n",
        "\n",
        "\n",
        "\n",
        "\n",
        "\n"
      ],
      "execution_count": 0,
      "outputs": [
        {
          "output_type": "stream",
          "text": [
            "Collecting reproject\n",
            "\u001b[?25l  Downloading https://files.pythonhosted.org/packages/4d/13/a763eb47c01d843ea3bd593ae91c07c86195018842205ae2c250421906b5/reproject-0.6-cp36-cp36m-manylinux2010_x86_64.whl (1.3MB)\n",
            "\u001b[K     |████████████████████████████████| 1.3MB 3.5MB/s \n",
            "\u001b[?25hRequirement already satisfied: scipy>=0.9 in /usr/local/lib/python3.6/dist-packages (from reproject) (1.4.1)\n",
            "Requirement already satisfied: numpy>=1.13 in /usr/local/lib/python3.6/dist-packages (from reproject) (1.18.2)\n",
            "Collecting astropy-healpix>=0.2\n",
            "\u001b[?25l  Downloading https://files.pythonhosted.org/packages/e2/7d/71350a23da8f7d8f107d70a28871021f7e8a554f9ab175313a2685c8c9ab/astropy_healpix-0.5-cp36-cp36m-manylinux2010_x86_64.whl (204kB)\n",
            "\u001b[K     |████████████████████████████████| 204kB 48.2MB/s \n",
            "\u001b[?25hRequirement already satisfied: astropy>=3.2 in /usr/local/lib/python3.6/dist-packages (from reproject) (3.2.3)\n",
            "Installing collected packages: astropy-healpix, reproject\n",
            "Successfully installed astropy-healpix-0.5 reproject-0.6\n"
          ],
          "name": "stdout"
        }
      ]
    },
    {
      "cell_type": "code",
      "metadata": {
        "id": "vOOBAZD6YsT-",
        "colab_type": "code",
        "outputId": "ee0dc4a1-d8d4-44b4-cd35-461baa7bd58f",
        "colab": {
          "base_uri": "https://localhost:8080/",
          "height": 207
        }
      },
      "source": [
        "# DOC: https://photutils.readthedocs.io/en/stable/aperture.html\n",
        "# Aperture Photometry: Total flux from field\n",
        "# Perform aperture photometry on an astronomical image for a given set of apertures.\n",
        "\n",
        "!pip install photutils\n",
        "\n",
        "#import:\n",
        "from photutils import SkyRectangularAperture\n",
        "from photutils import SkyCircularAperture\n",
        "from photutils import aperture_photometry\n",
        "\n",
        "#Assigna a center of our aperture:\n",
        "\n",
        "ra_center=15.440541 #as deg\n",
        "dec_center=-72.918473 # as deg\n",
        "position = SkyCoord(ra_center, dec_center, unit=(u.deg, u.deg), frame='fk5')\n",
        "\n",
        "\n",
        "#Assing type of aperture, circular:\n",
        "aperture = SkyCircularAperture(position, r=10 * u.arcmin)\n",
        "\n",
        "#Rectangular Aperture\n",
        "#aperture = SkyRectangularAperture(position, w=60 * u.arcsec,h=60  * u.arcsec)\n",
        "\n",
        "#Convert aread to px\n",
        "pix_aperture = aperture.to_pixel(WCS(new_header))\n",
        "\n",
        "#Perform action:\n",
        "phot_table = aperture_photometry(new_image, pix_aperture)\n",
        "\n",
        "print(phot_table)\n",
        "\n",
        "#Get value + unit:\n",
        "\n",
        "print('Total Flux: ',phot_table['aperture_sum'], new_header['ZUNITS'])\n",
        "\n",
        "\n"
      ],
      "execution_count": 0,
      "outputs": [
        {
          "output_type": "stream",
          "text": [
            "Requirement already satisfied: photutils in /usr/local/lib/python3.6/dist-packages (0.7.2)\n",
            "Requirement already satisfied: numpy>=1.13 in /usr/local/lib/python3.6/dist-packages (from photutils) (1.18.2)\n",
            "Requirement already satisfied: astropy!=3.0.*,!=3.1,!=3.1.1,>=2.0.12 in /usr/local/lib/python3.6/dist-packages (from photutils) (3.2.3)\n",
            " id      xcenter           ycenter         aperture_sum  \n",
            "           pix               pix                         \n",
            "--- ----------------- ----------------- -----------------\n",
            "  1 2998.999999999999 2998.999999999995 6207.865321643877\n",
            "Total Flux:     aperture_sum  \n",
            "-----------------\n",
            "6207.865321643877 MJy/sr\n"
          ],
          "name": "stdout"
        }
      ]
    },
    {
      "cell_type": "markdown",
      "metadata": {
        "id": "nuHlV4w6mmtq",
        "colab_type": "text"
      },
      "source": [
        "That is all for now!\n",
        "Thanks!\n",
        "\n",
        "\n",
        "If you are intersted to read about basic of Radio Astronomy:\n",
        "-Tools of radio astronomy book (https://www.springer.com/gp/book/9783030032654)\n",
        "\n",
        "-Galactic Radio Astronomy Yoshiaki Sofue\n",
        "\n",
        "-ASTRONOMICAL STATISTICS (https://www.roe.ac.uk/~ant/Teaching/Astronomical%20Stats/stats1.pdf)\n",
        "\n"
      ]
    }
  ]
}